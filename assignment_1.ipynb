{
  "cells": [
    {
      "cell_type": "markdown",
      "metadata": {
        "id": "view-in-github",
        "colab_type": "text"
      },
      "source": [
        "<a href=\"https://colab.research.google.com/github/rgclapp007/pulse_atmosphere/blob/main/assignment_1.ipynb\" target=\"_parent\"><img src=\"https://colab.research.google.com/assets/colab-badge.svg\" alt=\"Open In Colab\"/></a>"
      ]
    },
    {
      "cell_type": "markdown",
      "id": "c9472e0a-b20e-416a-bc73-ab47bed89b81",
      "metadata": {
        "iooxa": {
          "id": {
            "block": "8wEyBsB8WKXzenlhxINJ",
            "project": "ttdn3xVbgzjl9d2pKesg",
            "version": 1
          }
        },
        "id": "c9472e0a-b20e-416a-bc73-ab47bed89b81"
      },
      "source": [
        "Use this week to ramp up comfort with Jupyter, python, plotting etc\n",
        "Tutorial Jupyter notebooks taking students through basic functions necessary for assignments\n",
        "One tutorial notebook per assignment teaching necessary functions? This is something I’ve seen done for a linear algebra class and I really liked it, I’m implementing it for an intro complex analysis/diffeq class already (with MATLAB live scripts, not Jupyter notebooks, but same idea of dynamic execution)\n",
        "Take CO2 data CSV from ARSET training, assign each student a country to create budget for each year and average, and plot over the years and compare to the mean\n",
        "Everyone posts their estimates\n",
        "After the assignment is due, students work together in class to create a choropleth using plotly (https://plotly.com/python/#maps) mapping CO2 budget in/out for countries\n",
        "Will need a shapefile of country borders for this\n"
      ]
    },
    {
      "cell_type": "markdown",
      "id": "856842f4-8dd4-4f3b-88a1-5d05015c201c",
      "metadata": {
        "iooxa": {
          "id": {
            "block": "V9nCQSDMSNI35wDBMoJW",
            "project": "ttdn3xVbgzjl9d2pKesg",
            "version": 1
          }
        },
        "id": "856842f4-8dd4-4f3b-88a1-5d05015c201c"
      },
      "source": [
        "# Taking the Pulse of the Planet\n",
        "## Assignment 1: Calculating the CO$_2$ Budget\n",
        "#### written by Tea Susskind"
      ]
    },
    {
      "cell_type": "markdown",
      "id": "b7363a03-a049-4225-9c45-ebed1cb611b9",
      "metadata": {
        "iooxa": {
          "id": {
            "block": "FTaaNK6xjM8xP31c441X",
            "project": "ttdn3xVbgzjl9d2pKesg",
            "version": 1
          }
        },
        "id": "b7363a03-a049-4225-9c45-ebed1cb611b9"
      },
      "source": [
        "Welcome to Python. If you're reading this, you've successfully opened Jupyter Lab. To write code, you need to download Python \"packages\" (collections of files with code to perform certain related operations) and \"import\" them (tell the script to read in these operations so we can use them in this file)."
      ]
    },
    {
      "cell_type": "markdown",
      "id": "4c1c2be2-3afb-4645-a571-a241c27fda8c",
      "metadata": {
        "iooxa": {
          "id": {
            "block": "pAMcdziGhXQLJmxAVM0M",
            "project": "ttdn3xVbgzjl9d2pKesg",
            "version": 1
          }
        },
        "id": "4c1c2be2-3afb-4645-a571-a241c27fda8c"
      },
      "source": [
        "Now we need to download the packages we'll need. Everytime you reopen this note book you will need to rerun the next cell."
      ]
    },
    {
      "cell_type": "code",
      "source": [
        "!pip install numpy scipy matplotlib pandas plotly geopandas"
      ],
      "metadata": {
        "colab": {
          "base_uri": "https://localhost:8080/"
        },
        "id": "qOE0FE9G_SyN",
        "outputId": "293145db-f2d8-4694-ae6e-489e25e70a8e"
      },
      "id": "qOE0FE9G_SyN",
      "execution_count": null,
      "outputs": [
        {
          "output_type": "stream",
          "name": "stdout",
          "text": [
            "Looking in indexes: https://pypi.org/simple, https://us-python.pkg.dev/colab-wheels/public/simple/\n",
            "Requirement already satisfied: numpy in /usr/local/lib/python3.7/dist-packages (1.21.6)\n",
            "Requirement already satisfied: scipy in /usr/local/lib/python3.7/dist-packages (1.7.3)\n",
            "Requirement already satisfied: matplotlib in /usr/local/lib/python3.7/dist-packages (3.2.2)\n",
            "Requirement already satisfied: pandas in /usr/local/lib/python3.7/dist-packages (1.3.5)\n",
            "Requirement already satisfied: plotly in /usr/local/lib/python3.7/dist-packages (5.5.0)\n",
            "Requirement already satisfied: geopandas in /usr/local/lib/python3.7/dist-packages (0.10.2)\n",
            "Requirement already satisfied: kiwisolver>=1.0.1 in /usr/local/lib/python3.7/dist-packages (from matplotlib) (1.4.4)\n",
            "Requirement already satisfied: cycler>=0.10 in /usr/local/lib/python3.7/dist-packages (from matplotlib) (0.11.0)\n",
            "Requirement already satisfied: python-dateutil>=2.1 in /usr/local/lib/python3.7/dist-packages (from matplotlib) (2.8.2)\n",
            "Requirement already satisfied: pyparsing!=2.0.4,!=2.1.2,!=2.1.6,>=2.0.1 in /usr/local/lib/python3.7/dist-packages (from matplotlib) (3.0.9)\n",
            "Requirement already satisfied: typing-extensions in /usr/local/lib/python3.7/dist-packages (from kiwisolver>=1.0.1->matplotlib) (4.1.1)\n",
            "Requirement already satisfied: six>=1.5 in /usr/local/lib/python3.7/dist-packages (from python-dateutil>=2.1->matplotlib) (1.15.0)\n",
            "Requirement already satisfied: pytz>=2017.3 in /usr/local/lib/python3.7/dist-packages (from pandas) (2022.6)\n",
            "Requirement already satisfied: tenacity>=6.2.0 in /usr/local/lib/python3.7/dist-packages (from plotly) (8.1.0)\n",
            "Requirement already satisfied: shapely>=1.6 in /usr/local/lib/python3.7/dist-packages (from geopandas) (1.8.5.post1)\n",
            "Requirement already satisfied: fiona>=1.8 in /usr/local/lib/python3.7/dist-packages (from geopandas) (1.8.22)\n",
            "Requirement already satisfied: pyproj>=2.2.0 in /usr/local/lib/python3.7/dist-packages (from geopandas) (3.2.1)\n",
            "Requirement already satisfied: cligj>=0.5 in /usr/local/lib/python3.7/dist-packages (from fiona>=1.8->geopandas) (0.7.2)\n",
            "Requirement already satisfied: attrs>=17 in /usr/local/lib/python3.7/dist-packages (from fiona>=1.8->geopandas) (22.1.0)\n",
            "Requirement already satisfied: click>=4.0 in /usr/local/lib/python3.7/dist-packages (from fiona>=1.8->geopandas) (7.1.2)\n",
            "Requirement already satisfied: munch in /usr/local/lib/python3.7/dist-packages (from fiona>=1.8->geopandas) (2.5.0)\n",
            "Requirement already satisfied: certifi in /usr/local/lib/python3.7/dist-packages (from fiona>=1.8->geopandas) (2022.9.24)\n",
            "Requirement already satisfied: setuptools in /usr/local/lib/python3.7/dist-packages (from fiona>=1.8->geopandas) (57.4.0)\n",
            "Requirement already satisfied: click-plugins>=1.0 in /usr/local/lib/python3.7/dist-packages (from fiona>=1.8->geopandas) (1.1.1)\n"
          ]
        }
      ]
    },
    {
      "cell_type": "markdown",
      "id": "1682b33b-67d6-4ca8-99dc-5b1c1713915d",
      "metadata": {
        "iooxa": {
          "id": {
            "block": "LbWx8V4ZxiJdVCL6NNN4",
            "project": "ttdn3xVbgzjl9d2pKesg",
            "version": 1
          }
        },
        "id": "1682b33b-67d6-4ca8-99dc-5b1c1713915d"
      },
      "source": [
        "Finally, we can start coding. First we need to import the packages we've just downloaded."
      ]
    },
    {
      "cell_type": "code",
      "execution_count": null,
      "id": "f9892dd9-31e5-48ce-a5a4-6223bb62e759",
      "metadata": {
        "iooxa": {
          "id": {
            "block": "Mu60FRezDaCJ0jwN7och",
            "project": "ttdn3xVbgzjl9d2pKesg",
            "version": 1
          },
          "outputId": null
        },
        "tags": [],
        "id": "f9892dd9-31e5-48ce-a5a4-6223bb62e759"
      },
      "outputs": [],
      "source": [
        "import numpy as np\n",
        "import matplotlib.pyplot as plt\n",
        "import pandas as pd\n",
        "# Was not sure what was this for?\n",
        "pd.options.mode.chained_assignment = None  # default='warn'\n",
        "import geopandas as gpd"
      ]
    },
    {
      "cell_type": "markdown",
      "id": "bc8c907d-9fa7-478f-9a3f-cc07d632e741",
      "metadata": {
        "iooxa": {
          "id": {
            "block": "WaU74PYNGSA2gBdXczzC",
            "project": "ttdn3xVbgzjl9d2pKesg",
            "version": 1
          }
        },
        "id": "bc8c907d-9fa7-478f-9a3f-cc07d632e741"
      },
      "source": [
        "We want to calculate the CO$_2$ budget for a country of your choice. So our first step is to read in the data from a comma separated value (CSV) file and put it into a data structure called a panda which can easily read in this input file and store a lot of different kinds of data. The first 51 rows of the file are just describing the variables, so we skip them when we read it in."
      ]
    },
    {
      "cell_type": "code",
      "execution_count": null,
      "id": "f64ea15e-354c-40d0-9cdf-b19853e8986d",
      "metadata": {
        "id": "f64ea15e-354c-40d0-9cdf-b19853e8986d"
      },
      "outputs": [],
      "source": []
    },
    {
      "cell_type": "code",
      "execution_count": null,
      "id": "0920aba4-b1aa-4519-aa36-8b70d31e4163",
      "metadata": {
        "iooxa": {
          "id": {
            "block": "q74ysY0R18DudxKj3EWl",
            "project": "ttdn3xVbgzjl9d2pKesg",
            "version": 1
          },
          "outputId": null
        },
        "tags": [],
        "id": "0920aba4-b1aa-4519-aa36-8b70d31e4163"
      },
      "outputs": [],
      "source": [
        "co2_data = pd.read_csv(\"http://appliedsciences.nasa.gov/sites/default/files/2022-05/CO2_Budget_Byrneetal2022_v1.csv\", skiprows=51)"
      ]
    },
    {
      "cell_type": "markdown",
      "id": "c034bcd3-ac8d-4db1-9def-800605f22aa7",
      "metadata": {
        "iooxa": {
          "id": {
            "block": "cxARkYjYSxzbH4YT2hfQ",
            "project": "ttdn3xVbgzjl9d2pKesg",
            "version": 1
          }
        },
        "id": "c034bcd3-ac8d-4db1-9def-800605f22aa7"
      },
      "source": [
        "To get a sense of what the data looks like, Jupyter Lab allows us to get a preview of it it by simply running a cell with its name"
      ]
    },
    {
      "cell_type": "code",
      "execution_count": null,
      "id": "82d04a06-d9ee-44bb-84ed-8259100d0804",
      "metadata": {
        "iooxa": {
          "id": {
            "block": "V9RSXzaWQQoyGeLJX91k",
            "project": "ttdn3xVbgzjl9d2pKesg",
            "version": 2
          },
          "outputId": {
            "block": "a5h68sbEwuRX4LAlyxm7",
            "project": "ttdn3xVbgzjl9d2pKesg",
            "version": 2
          }
        },
        "tags": [],
        "colab": {
          "base_uri": "https://localhost:8080/",
          "height": 289
        },
        "id": "82d04a06-d9ee-44bb-84ed-8259100d0804",
        "outputId": "44f8fc26-b4d4-4170-bcc1-ea812a293a2c"
      },
      "outputs": [
        {
          "output_type": "execute_result",
          "data": {
            "text/plain": [
              "  Alpha 3 Code  Year  IS dC_loss (TgCO2)  IS dC_loss unc (TgCO2)  \\\n",
              "0          AFG  2015            1.197130                 41.8719   \n",
              "1          AFG  2016           -1.266900                 32.3623   \n",
              "2          AFG  2017           -0.073316                 43.4440   \n",
              "\n",
              "   LNLG dC_loss (TgCO2)  LNLG dC_loss unc (TgCO2)  LNLGIS dC_loss (TgCO2)  \\\n",
              "0               54.6349                   179.753                 39.3407   \n",
              "1               67.5523                   234.094                 50.6167   \n",
              "2               77.1190                   233.244                 54.5096   \n",
              "\n",
              "   LNLGIS dC_loss unc (TgCO2)  LNLGOGIS dC_loss (TgCO2)  \\\n",
              "0                     153.746                 -0.976738   \n",
              "1                     175.454                 17.683400   \n",
              "2                     179.794                 10.316500   \n",
              "\n",
              "   LNLGOGIS dC_loss unc (TgCO2)  ...  River unc (TgCO2)  Wood+Crop (TgCO2)  \\\n",
              "0                       112.483  ...            1.69832            4.05648   \n",
              "1                       117.572  ...            2.24033            4.05648   \n",
              "2                       127.746  ...            2.37705            4.05648   \n",
              "\n",
              "   Wood+Crop unc (TgCO2)  FF (TgCO2)  FF unc (TgCO2)  Z-statistic  IAD IS  \\\n",
              "0                1.21694     19.3894        0.797698         0.37    0.01   \n",
              "1                1.21694     20.5220        0.678080         0.31    0.01   \n",
              "2                1.21694     21.0629        0.695856         0.47    0.01   \n",
              "\n",
              "   IAD LNLG  IAD LNLGIS  IAD LNLGOGIS  \n",
              "0       0.2        0.19          0.03  \n",
              "1       0.2        0.19          0.03  \n",
              "2       0.2        0.19          0.03  \n",
              "\n",
              "[3 rows x 37 columns]"
            ],
            "text/html": [
              "\n",
              "  <div id=\"df-11b5de70-b6f1-4153-b1dc-7c5f5eb837a9\">\n",
              "    <div class=\"colab-df-container\">\n",
              "      <div>\n",
              "<style scoped>\n",
              "    .dataframe tbody tr th:only-of-type {\n",
              "        vertical-align: middle;\n",
              "    }\n",
              "\n",
              "    .dataframe tbody tr th {\n",
              "        vertical-align: top;\n",
              "    }\n",
              "\n",
              "    .dataframe thead th {\n",
              "        text-align: right;\n",
              "    }\n",
              "</style>\n",
              "<table border=\"1\" class=\"dataframe\">\n",
              "  <thead>\n",
              "    <tr style=\"text-align: right;\">\n",
              "      <th></th>\n",
              "      <th>Alpha 3 Code</th>\n",
              "      <th>Year</th>\n",
              "      <th>IS dC_loss (TgCO2)</th>\n",
              "      <th>IS dC_loss unc (TgCO2)</th>\n",
              "      <th>LNLG dC_loss (TgCO2)</th>\n",
              "      <th>LNLG dC_loss unc (TgCO2)</th>\n",
              "      <th>LNLGIS dC_loss (TgCO2)</th>\n",
              "      <th>LNLGIS dC_loss unc (TgCO2)</th>\n",
              "      <th>LNLGOGIS dC_loss (TgCO2)</th>\n",
              "      <th>LNLGOGIS dC_loss unc (TgCO2)</th>\n",
              "      <th>...</th>\n",
              "      <th>River unc (TgCO2)</th>\n",
              "      <th>Wood+Crop (TgCO2)</th>\n",
              "      <th>Wood+Crop unc (TgCO2)</th>\n",
              "      <th>FF (TgCO2)</th>\n",
              "      <th>FF unc (TgCO2)</th>\n",
              "      <th>Z-statistic</th>\n",
              "      <th>IAD IS</th>\n",
              "      <th>IAD LNLG</th>\n",
              "      <th>IAD LNLGIS</th>\n",
              "      <th>IAD LNLGOGIS</th>\n",
              "    </tr>\n",
              "  </thead>\n",
              "  <tbody>\n",
              "    <tr>\n",
              "      <th>0</th>\n",
              "      <td>AFG</td>\n",
              "      <td>2015</td>\n",
              "      <td>1.197130</td>\n",
              "      <td>41.8719</td>\n",
              "      <td>54.6349</td>\n",
              "      <td>179.753</td>\n",
              "      <td>39.3407</td>\n",
              "      <td>153.746</td>\n",
              "      <td>-0.976738</td>\n",
              "      <td>112.483</td>\n",
              "      <td>...</td>\n",
              "      <td>1.69832</td>\n",
              "      <td>4.05648</td>\n",
              "      <td>1.21694</td>\n",
              "      <td>19.3894</td>\n",
              "      <td>0.797698</td>\n",
              "      <td>0.37</td>\n",
              "      <td>0.01</td>\n",
              "      <td>0.2</td>\n",
              "      <td>0.19</td>\n",
              "      <td>0.03</td>\n",
              "    </tr>\n",
              "    <tr>\n",
              "      <th>1</th>\n",
              "      <td>AFG</td>\n",
              "      <td>2016</td>\n",
              "      <td>-1.266900</td>\n",
              "      <td>32.3623</td>\n",
              "      <td>67.5523</td>\n",
              "      <td>234.094</td>\n",
              "      <td>50.6167</td>\n",
              "      <td>175.454</td>\n",
              "      <td>17.683400</td>\n",
              "      <td>117.572</td>\n",
              "      <td>...</td>\n",
              "      <td>2.24033</td>\n",
              "      <td>4.05648</td>\n",
              "      <td>1.21694</td>\n",
              "      <td>20.5220</td>\n",
              "      <td>0.678080</td>\n",
              "      <td>0.31</td>\n",
              "      <td>0.01</td>\n",
              "      <td>0.2</td>\n",
              "      <td>0.19</td>\n",
              "      <td>0.03</td>\n",
              "    </tr>\n",
              "    <tr>\n",
              "      <th>2</th>\n",
              "      <td>AFG</td>\n",
              "      <td>2017</td>\n",
              "      <td>-0.073316</td>\n",
              "      <td>43.4440</td>\n",
              "      <td>77.1190</td>\n",
              "      <td>233.244</td>\n",
              "      <td>54.5096</td>\n",
              "      <td>179.794</td>\n",
              "      <td>10.316500</td>\n",
              "      <td>127.746</td>\n",
              "      <td>...</td>\n",
              "      <td>2.37705</td>\n",
              "      <td>4.05648</td>\n",
              "      <td>1.21694</td>\n",
              "      <td>21.0629</td>\n",
              "      <td>0.695856</td>\n",
              "      <td>0.47</td>\n",
              "      <td>0.01</td>\n",
              "      <td>0.2</td>\n",
              "      <td>0.19</td>\n",
              "      <td>0.03</td>\n",
              "    </tr>\n",
              "  </tbody>\n",
              "</table>\n",
              "<p>3 rows × 37 columns</p>\n",
              "</div>\n",
              "      <button class=\"colab-df-convert\" onclick=\"convertToInteractive('df-11b5de70-b6f1-4153-b1dc-7c5f5eb837a9')\"\n",
              "              title=\"Convert this dataframe to an interactive table.\"\n",
              "              style=\"display:none;\">\n",
              "        \n",
              "  <svg xmlns=\"http://www.w3.org/2000/svg\" height=\"24px\"viewBox=\"0 0 24 24\"\n",
              "       width=\"24px\">\n",
              "    <path d=\"M0 0h24v24H0V0z\" fill=\"none\"/>\n",
              "    <path d=\"M18.56 5.44l.94 2.06.94-2.06 2.06-.94-2.06-.94-.94-2.06-.94 2.06-2.06.94zm-11 1L8.5 8.5l.94-2.06 2.06-.94-2.06-.94L8.5 2.5l-.94 2.06-2.06.94zm10 10l.94 2.06.94-2.06 2.06-.94-2.06-.94-.94-2.06-.94 2.06-2.06.94z\"/><path d=\"M17.41 7.96l-1.37-1.37c-.4-.4-.92-.59-1.43-.59-.52 0-1.04.2-1.43.59L10.3 9.45l-7.72 7.72c-.78.78-.78 2.05 0 2.83L4 21.41c.39.39.9.59 1.41.59.51 0 1.02-.2 1.41-.59l7.78-7.78 2.81-2.81c.8-.78.8-2.07 0-2.86zM5.41 20L4 18.59l7.72-7.72 1.47 1.35L5.41 20z\"/>\n",
              "  </svg>\n",
              "      </button>\n",
              "      \n",
              "  <style>\n",
              "    .colab-df-container {\n",
              "      display:flex;\n",
              "      flex-wrap:wrap;\n",
              "      gap: 12px;\n",
              "    }\n",
              "\n",
              "    .colab-df-convert {\n",
              "      background-color: #E8F0FE;\n",
              "      border: none;\n",
              "      border-radius: 50%;\n",
              "      cursor: pointer;\n",
              "      display: none;\n",
              "      fill: #1967D2;\n",
              "      height: 32px;\n",
              "      padding: 0 0 0 0;\n",
              "      width: 32px;\n",
              "    }\n",
              "\n",
              "    .colab-df-convert:hover {\n",
              "      background-color: #E2EBFA;\n",
              "      box-shadow: 0px 1px 2px rgba(60, 64, 67, 0.3), 0px 1px 3px 1px rgba(60, 64, 67, 0.15);\n",
              "      fill: #174EA6;\n",
              "    }\n",
              "\n",
              "    [theme=dark] .colab-df-convert {\n",
              "      background-color: #3B4455;\n",
              "      fill: #D2E3FC;\n",
              "    }\n",
              "\n",
              "    [theme=dark] .colab-df-convert:hover {\n",
              "      background-color: #434B5C;\n",
              "      box-shadow: 0px 1px 3px 1px rgba(0, 0, 0, 0.15);\n",
              "      filter: drop-shadow(0px 1px 2px rgba(0, 0, 0, 0.3));\n",
              "      fill: #FFFFFF;\n",
              "    }\n",
              "  </style>\n",
              "\n",
              "      <script>\n",
              "        const buttonEl =\n",
              "          document.querySelector('#df-11b5de70-b6f1-4153-b1dc-7c5f5eb837a9 button.colab-df-convert');\n",
              "        buttonEl.style.display =\n",
              "          google.colab.kernel.accessAllowed ? 'block' : 'none';\n",
              "\n",
              "        async function convertToInteractive(key) {\n",
              "          const element = document.querySelector('#df-11b5de70-b6f1-4153-b1dc-7c5f5eb837a9');\n",
              "          const dataTable =\n",
              "            await google.colab.kernel.invokeFunction('convertToInteractive',\n",
              "                                                     [key], {});\n",
              "          if (!dataTable) return;\n",
              "\n",
              "          const docLinkHtml = 'Like what you see? Visit the ' +\n",
              "            '<a target=\"_blank\" href=https://colab.research.google.com/notebooks/data_table.ipynb>data table notebook</a>'\n",
              "            + ' to learn more about interactive tables.';\n",
              "          element.innerHTML = '';\n",
              "          dataTable['output_type'] = 'display_data';\n",
              "          await google.colab.output.renderOutput(dataTable, element);\n",
              "          const docLink = document.createElement('div');\n",
              "          docLink.innerHTML = docLinkHtml;\n",
              "          element.appendChild(docLink);\n",
              "        }\n",
              "      </script>\n",
              "    </div>\n",
              "  </div>\n",
              "  "
            ]
          },
          "metadata": {},
          "execution_count": 4
        }
      ],
      "source": [
        "co2_data.head(3)"
      ]
    },
    {
      "cell_type": "markdown",
      "id": "60827d37-b558-4037-9c2d-a5b294f88574",
      "metadata": {
        "iooxa": {
          "id": {
            "block": "yBR43srIrg8da9Q5Htt8",
            "project": "ttdn3xVbgzjl9d2pKesg",
            "version": 1
          }
        },
        "id": "60827d37-b558-4037-9c2d-a5b294f88574"
      },
      "source": [
        "We can see that there are six years of data (2015-2020, inclusive) per country. Look up your chosen country's Alpha 3 code and edit the following code block to just select the data from that country:"
      ]
    },
    {
      "cell_type": "code",
      "execution_count": null,
      "id": "739857bf-d291-41a4-9ee8-5125e5dfece4",
      "metadata": {
        "iooxa": {
          "id": {
            "block": "j2LmfmPCmdrRJ9IEgSBt",
            "project": "ttdn3xVbgzjl9d2pKesg",
            "version": 1
          },
          "outputId": null
        },
        "tags": [],
        "id": "739857bf-d291-41a4-9ee8-5125e5dfece4"
      },
      "outputs": [],
      "source": [
        "# CHANGE BELOW LINE:\n",
        "country_code = 'ARG'\n",
        "country_co2_data = co2_data.loc[co2_data['Alpha 3 Code'] == country_code]"
      ]
    },
    {
      "cell_type": "markdown",
      "id": "2a6420bf-fd7c-4fa7-93d5-9185d511418a",
      "metadata": {
        "iooxa": {
          "id": {
            "block": "jRQL1huU4FnHVVk2yhnM",
            "project": "ttdn3xVbgzjl9d2pKesg",
            "version": 1
          }
        },
        "id": "2a6420bf-fd7c-4fa7-93d5-9185d511418a"
      },
      "source": [
        "Use the following cell to check that you have the values you want by displaying your new panda structure."
      ]
    },
    {
      "cell_type": "code",
      "execution_count": null,
      "id": "fe458573-e697-488b-9b5c-fc2799427388",
      "metadata": {
        "iooxa": {
          "id": {
            "block": "CFIZk29UFkorRibyptad",
            "project": "ttdn3xVbgzjl9d2pKesg",
            "version": 2
          },
          "outputId": {
            "block": "bvRrWsaz8pcPbxLI14tM",
            "project": "ttdn3xVbgzjl9d2pKesg",
            "version": 2
          }
        },
        "tags": [],
        "colab": {
          "base_uri": "https://localhost:8080/",
          "height": 414
        },
        "id": "fe458573-e697-488b-9b5c-fc2799427388",
        "outputId": "1f40b720-9c7b-4458-fa90-e8b5b6d4c88c"
      },
      "outputs": [
        {
          "output_type": "execute_result",
          "data": {
            "text/plain": [
              "   Alpha 3 Code  Year  IS dC_loss (TgCO2)  IS dC_loss unc (TgCO2)  \\\n",
              "28          ARG  2015             112.047                 242.044   \n",
              "29          ARG  2016            -210.205                 367.245   \n",
              "30          ARG  2017            -327.038                 315.110   \n",
              "31          ARG  2018            -245.061                 217.192   \n",
              "32          ARG  2019            -213.240                 354.183   \n",
              "33          ARG  2020            -418.437                 395.979   \n",
              "34          ARG  mean            -184.154                 197.942   \n",
              "\n",
              "    LNLG dC_loss (TgCO2)  LNLG dC_loss unc (TgCO2)  LNLGIS dC_loss (TgCO2)  \\\n",
              "28              -719.161                   700.999                -398.645   \n",
              "29             -1096.460                   288.668                -991.864   \n",
              "30              -913.552                   470.527                -624.537   \n",
              "31              -815.288                   552.578                -366.575   \n",
              "32             -1272.550                   558.181               -1186.130   \n",
              "33              -878.118                   457.886                -976.530   \n",
              "34             -1052.830                   478.819                -655.320   \n",
              "\n",
              "    LNLGIS dC_loss unc (TgCO2)  LNLGOGIS dC_loss (TgCO2)  \\\n",
              "28                     741.318                   47.8970   \n",
              "29                     396.966                 -253.8120   \n",
              "30                     582.199                 -595.9920   \n",
              "31                     657.288                 -482.8150   \n",
              "32                     727.737                 -623.3160   \n",
              "33                     447.187                  -84.6341   \n",
              "34                     472.673                 -353.5240   \n",
              "\n",
              "    LNLGOGIS dC_loss unc (TgCO2)  ...  River unc (TgCO2)  Wood+Crop (TgCO2)  \\\n",
              "28                       835.261  ...           2.865550           -114.094   \n",
              "29                       545.195  ...           3.954050           -114.094   \n",
              "30                       678.966  ...           0.457247           -114.094   \n",
              "31                       403.436  ...           2.375250           -114.094   \n",
              "32                       489.948  ...           3.246230           -114.094   \n",
              "33                       479.598  ...           2.579660           -114.094   \n",
              "34                       592.391  ...           2.579660           -114.094   \n",
              "\n",
              "    Wood+Crop unc (TgCO2)  FF (TgCO2)  FF unc (TgCO2)  Z-statistic  IAD IS  \\\n",
              "28               -34.2282     197.824         19.3936        -1.15    0.28   \n",
              "29               -34.2282     198.224         19.3036        -1.71    0.28   \n",
              "30               -34.2282     193.454         18.9496        -1.51    0.28   \n",
              "31               -34.2282     190.159         18.9496        -1.28    0.28   \n",
              "32               -34.2282     184.636         19.3936        -1.73    0.28   \n",
              "33               -34.2282     171.286         19.3936        -0.69    0.28   \n",
              "34               -34.2282     189.264         19.2306        -1.52    0.28   \n",
              "\n",
              "    IAD LNLG  IAD LNLGIS  IAD LNLGOGIS  \n",
              "28       0.7        0.72          0.72  \n",
              "29       0.7        0.72          0.72  \n",
              "30       0.7        0.72          0.72  \n",
              "31       0.7        0.72          0.72  \n",
              "32       0.7        0.72          0.72  \n",
              "33       0.7        0.72          0.72  \n",
              "34       0.7        0.72          0.72  \n",
              "\n",
              "[7 rows x 37 columns]"
            ],
            "text/html": [
              "\n",
              "  <div id=\"df-f01c6927-2933-4fad-b06b-857a86b806da\">\n",
              "    <div class=\"colab-df-container\">\n",
              "      <div>\n",
              "<style scoped>\n",
              "    .dataframe tbody tr th:only-of-type {\n",
              "        vertical-align: middle;\n",
              "    }\n",
              "\n",
              "    .dataframe tbody tr th {\n",
              "        vertical-align: top;\n",
              "    }\n",
              "\n",
              "    .dataframe thead th {\n",
              "        text-align: right;\n",
              "    }\n",
              "</style>\n",
              "<table border=\"1\" class=\"dataframe\">\n",
              "  <thead>\n",
              "    <tr style=\"text-align: right;\">\n",
              "      <th></th>\n",
              "      <th>Alpha 3 Code</th>\n",
              "      <th>Year</th>\n",
              "      <th>IS dC_loss (TgCO2)</th>\n",
              "      <th>IS dC_loss unc (TgCO2)</th>\n",
              "      <th>LNLG dC_loss (TgCO2)</th>\n",
              "      <th>LNLG dC_loss unc (TgCO2)</th>\n",
              "      <th>LNLGIS dC_loss (TgCO2)</th>\n",
              "      <th>LNLGIS dC_loss unc (TgCO2)</th>\n",
              "      <th>LNLGOGIS dC_loss (TgCO2)</th>\n",
              "      <th>LNLGOGIS dC_loss unc (TgCO2)</th>\n",
              "      <th>...</th>\n",
              "      <th>River unc (TgCO2)</th>\n",
              "      <th>Wood+Crop (TgCO2)</th>\n",
              "      <th>Wood+Crop unc (TgCO2)</th>\n",
              "      <th>FF (TgCO2)</th>\n",
              "      <th>FF unc (TgCO2)</th>\n",
              "      <th>Z-statistic</th>\n",
              "      <th>IAD IS</th>\n",
              "      <th>IAD LNLG</th>\n",
              "      <th>IAD LNLGIS</th>\n",
              "      <th>IAD LNLGOGIS</th>\n",
              "    </tr>\n",
              "  </thead>\n",
              "  <tbody>\n",
              "    <tr>\n",
              "      <th>28</th>\n",
              "      <td>ARG</td>\n",
              "      <td>2015</td>\n",
              "      <td>112.047</td>\n",
              "      <td>242.044</td>\n",
              "      <td>-719.161</td>\n",
              "      <td>700.999</td>\n",
              "      <td>-398.645</td>\n",
              "      <td>741.318</td>\n",
              "      <td>47.8970</td>\n",
              "      <td>835.261</td>\n",
              "      <td>...</td>\n",
              "      <td>2.865550</td>\n",
              "      <td>-114.094</td>\n",
              "      <td>-34.2282</td>\n",
              "      <td>197.824</td>\n",
              "      <td>19.3936</td>\n",
              "      <td>-1.15</td>\n",
              "      <td>0.28</td>\n",
              "      <td>0.7</td>\n",
              "      <td>0.72</td>\n",
              "      <td>0.72</td>\n",
              "    </tr>\n",
              "    <tr>\n",
              "      <th>29</th>\n",
              "      <td>ARG</td>\n",
              "      <td>2016</td>\n",
              "      <td>-210.205</td>\n",
              "      <td>367.245</td>\n",
              "      <td>-1096.460</td>\n",
              "      <td>288.668</td>\n",
              "      <td>-991.864</td>\n",
              "      <td>396.966</td>\n",
              "      <td>-253.8120</td>\n",
              "      <td>545.195</td>\n",
              "      <td>...</td>\n",
              "      <td>3.954050</td>\n",
              "      <td>-114.094</td>\n",
              "      <td>-34.2282</td>\n",
              "      <td>198.224</td>\n",
              "      <td>19.3036</td>\n",
              "      <td>-1.71</td>\n",
              "      <td>0.28</td>\n",
              "      <td>0.7</td>\n",
              "      <td>0.72</td>\n",
              "      <td>0.72</td>\n",
              "    </tr>\n",
              "    <tr>\n",
              "      <th>30</th>\n",
              "      <td>ARG</td>\n",
              "      <td>2017</td>\n",
              "      <td>-327.038</td>\n",
              "      <td>315.110</td>\n",
              "      <td>-913.552</td>\n",
              "      <td>470.527</td>\n",
              "      <td>-624.537</td>\n",
              "      <td>582.199</td>\n",
              "      <td>-595.9920</td>\n",
              "      <td>678.966</td>\n",
              "      <td>...</td>\n",
              "      <td>0.457247</td>\n",
              "      <td>-114.094</td>\n",
              "      <td>-34.2282</td>\n",
              "      <td>193.454</td>\n",
              "      <td>18.9496</td>\n",
              "      <td>-1.51</td>\n",
              "      <td>0.28</td>\n",
              "      <td>0.7</td>\n",
              "      <td>0.72</td>\n",
              "      <td>0.72</td>\n",
              "    </tr>\n",
              "    <tr>\n",
              "      <th>31</th>\n",
              "      <td>ARG</td>\n",
              "      <td>2018</td>\n",
              "      <td>-245.061</td>\n",
              "      <td>217.192</td>\n",
              "      <td>-815.288</td>\n",
              "      <td>552.578</td>\n",
              "      <td>-366.575</td>\n",
              "      <td>657.288</td>\n",
              "      <td>-482.8150</td>\n",
              "      <td>403.436</td>\n",
              "      <td>...</td>\n",
              "      <td>2.375250</td>\n",
              "      <td>-114.094</td>\n",
              "      <td>-34.2282</td>\n",
              "      <td>190.159</td>\n",
              "      <td>18.9496</td>\n",
              "      <td>-1.28</td>\n",
              "      <td>0.28</td>\n",
              "      <td>0.7</td>\n",
              "      <td>0.72</td>\n",
              "      <td>0.72</td>\n",
              "    </tr>\n",
              "    <tr>\n",
              "      <th>32</th>\n",
              "      <td>ARG</td>\n",
              "      <td>2019</td>\n",
              "      <td>-213.240</td>\n",
              "      <td>354.183</td>\n",
              "      <td>-1272.550</td>\n",
              "      <td>558.181</td>\n",
              "      <td>-1186.130</td>\n",
              "      <td>727.737</td>\n",
              "      <td>-623.3160</td>\n",
              "      <td>489.948</td>\n",
              "      <td>...</td>\n",
              "      <td>3.246230</td>\n",
              "      <td>-114.094</td>\n",
              "      <td>-34.2282</td>\n",
              "      <td>184.636</td>\n",
              "      <td>19.3936</td>\n",
              "      <td>-1.73</td>\n",
              "      <td>0.28</td>\n",
              "      <td>0.7</td>\n",
              "      <td>0.72</td>\n",
              "      <td>0.72</td>\n",
              "    </tr>\n",
              "    <tr>\n",
              "      <th>33</th>\n",
              "      <td>ARG</td>\n",
              "      <td>2020</td>\n",
              "      <td>-418.437</td>\n",
              "      <td>395.979</td>\n",
              "      <td>-878.118</td>\n",
              "      <td>457.886</td>\n",
              "      <td>-976.530</td>\n",
              "      <td>447.187</td>\n",
              "      <td>-84.6341</td>\n",
              "      <td>479.598</td>\n",
              "      <td>...</td>\n",
              "      <td>2.579660</td>\n",
              "      <td>-114.094</td>\n",
              "      <td>-34.2282</td>\n",
              "      <td>171.286</td>\n",
              "      <td>19.3936</td>\n",
              "      <td>-0.69</td>\n",
              "      <td>0.28</td>\n",
              "      <td>0.7</td>\n",
              "      <td>0.72</td>\n",
              "      <td>0.72</td>\n",
              "    </tr>\n",
              "    <tr>\n",
              "      <th>34</th>\n",
              "      <td>ARG</td>\n",
              "      <td>mean</td>\n",
              "      <td>-184.154</td>\n",
              "      <td>197.942</td>\n",
              "      <td>-1052.830</td>\n",
              "      <td>478.819</td>\n",
              "      <td>-655.320</td>\n",
              "      <td>472.673</td>\n",
              "      <td>-353.5240</td>\n",
              "      <td>592.391</td>\n",
              "      <td>...</td>\n",
              "      <td>2.579660</td>\n",
              "      <td>-114.094</td>\n",
              "      <td>-34.2282</td>\n",
              "      <td>189.264</td>\n",
              "      <td>19.2306</td>\n",
              "      <td>-1.52</td>\n",
              "      <td>0.28</td>\n",
              "      <td>0.7</td>\n",
              "      <td>0.72</td>\n",
              "      <td>0.72</td>\n",
              "    </tr>\n",
              "  </tbody>\n",
              "</table>\n",
              "<p>7 rows × 37 columns</p>\n",
              "</div>\n",
              "      <button class=\"colab-df-convert\" onclick=\"convertToInteractive('df-f01c6927-2933-4fad-b06b-857a86b806da')\"\n",
              "              title=\"Convert this dataframe to an interactive table.\"\n",
              "              style=\"display:none;\">\n",
              "        \n",
              "  <svg xmlns=\"http://www.w3.org/2000/svg\" height=\"24px\"viewBox=\"0 0 24 24\"\n",
              "       width=\"24px\">\n",
              "    <path d=\"M0 0h24v24H0V0z\" fill=\"none\"/>\n",
              "    <path d=\"M18.56 5.44l.94 2.06.94-2.06 2.06-.94-2.06-.94-.94-2.06-.94 2.06-2.06.94zm-11 1L8.5 8.5l.94-2.06 2.06-.94-2.06-.94L8.5 2.5l-.94 2.06-2.06.94zm10 10l.94 2.06.94-2.06 2.06-.94-2.06-.94-.94-2.06-.94 2.06-2.06.94z\"/><path d=\"M17.41 7.96l-1.37-1.37c-.4-.4-.92-.59-1.43-.59-.52 0-1.04.2-1.43.59L10.3 9.45l-7.72 7.72c-.78.78-.78 2.05 0 2.83L4 21.41c.39.39.9.59 1.41.59.51 0 1.02-.2 1.41-.59l7.78-7.78 2.81-2.81c.8-.78.8-2.07 0-2.86zM5.41 20L4 18.59l7.72-7.72 1.47 1.35L5.41 20z\"/>\n",
              "  </svg>\n",
              "      </button>\n",
              "      \n",
              "  <style>\n",
              "    .colab-df-container {\n",
              "      display:flex;\n",
              "      flex-wrap:wrap;\n",
              "      gap: 12px;\n",
              "    }\n",
              "\n",
              "    .colab-df-convert {\n",
              "      background-color: #E8F0FE;\n",
              "      border: none;\n",
              "      border-radius: 50%;\n",
              "      cursor: pointer;\n",
              "      display: none;\n",
              "      fill: #1967D2;\n",
              "      height: 32px;\n",
              "      padding: 0 0 0 0;\n",
              "      width: 32px;\n",
              "    }\n",
              "\n",
              "    .colab-df-convert:hover {\n",
              "      background-color: #E2EBFA;\n",
              "      box-shadow: 0px 1px 2px rgba(60, 64, 67, 0.3), 0px 1px 3px 1px rgba(60, 64, 67, 0.15);\n",
              "      fill: #174EA6;\n",
              "    }\n",
              "\n",
              "    [theme=dark] .colab-df-convert {\n",
              "      background-color: #3B4455;\n",
              "      fill: #D2E3FC;\n",
              "    }\n",
              "\n",
              "    [theme=dark] .colab-df-convert:hover {\n",
              "      background-color: #434B5C;\n",
              "      box-shadow: 0px 1px 3px 1px rgba(0, 0, 0, 0.15);\n",
              "      filter: drop-shadow(0px 1px 2px rgba(0, 0, 0, 0.3));\n",
              "      fill: #FFFFFF;\n",
              "    }\n",
              "  </style>\n",
              "\n",
              "      <script>\n",
              "        const buttonEl =\n",
              "          document.querySelector('#df-f01c6927-2933-4fad-b06b-857a86b806da button.colab-df-convert');\n",
              "        buttonEl.style.display =\n",
              "          google.colab.kernel.accessAllowed ? 'block' : 'none';\n",
              "\n",
              "        async function convertToInteractive(key) {\n",
              "          const element = document.querySelector('#df-f01c6927-2933-4fad-b06b-857a86b806da');\n",
              "          const dataTable =\n",
              "            await google.colab.kernel.invokeFunction('convertToInteractive',\n",
              "                                                     [key], {});\n",
              "          if (!dataTable) return;\n",
              "\n",
              "          const docLinkHtml = 'Like what you see? Visit the ' +\n",
              "            '<a target=\"_blank\" href=https://colab.research.google.com/notebooks/data_table.ipynb>data table notebook</a>'\n",
              "            + ' to learn more about interactive tables.';\n",
              "          element.innerHTML = '';\n",
              "          dataTable['output_type'] = 'display_data';\n",
              "          await google.colab.output.renderOutput(dataTable, element);\n",
              "          const docLink = document.createElement('div');\n",
              "          docLink.innerHTML = docLinkHtml;\n",
              "          element.appendChild(docLink);\n",
              "        }\n",
              "      </script>\n",
              "    </div>\n",
              "  </div>\n",
              "  "
            ]
          },
          "metadata": {},
          "execution_count": 6
        }
      ],
      "source": [
        "# to delete\n",
        "country_co2_data"
      ]
    },
    {
      "cell_type": "code",
      "execution_count": null,
      "id": "90ea1d0c-4594-44dc-9422-651602bc179e",
      "metadata": {
        "colab": {
          "base_uri": "https://localhost:8080/"
        },
        "id": "90ea1d0c-4594-44dc-9422-651602bc179e",
        "outputId": "667f9563-8730-42d9-c28e-6fd75a55266f"
      },
      "outputs": [
        {
          "output_type": "execute_result",
          "data": {
            "text/plain": [
              "Index(['Alpha 3 Code', 'Year', 'IS dC_loss (TgCO2)', 'IS dC_loss unc (TgCO2)',\n",
              "       'LNLG dC_loss (TgCO2)', 'LNLG dC_loss unc (TgCO2)',\n",
              "       'LNLGIS dC_loss (TgCO2)', 'LNLGIS dC_loss unc (TgCO2)',\n",
              "       'LNLGOGIS dC_loss (TgCO2)', 'LNLGOGIS dC_loss unc (TgCO2)',\n",
              "       'IS NBE (TgCO2)', 'IS NBE unc (TgCO2)', 'LNLG NBE (TgCO2)',\n",
              "       'LNLG NBE unc (TgCO2)', 'LNLGIS NBE (TgCO2)', 'LNLGIS NBE unc (TgCO2)',\n",
              "       'LNLGOGIS NBE (TgCO2)', 'LNLGOGIS NBE unc (TgCO2)', 'IS NCE (TgCO2)',\n",
              "       'IS NCE unc (TgCO2)', 'LNLG NCE (TgCO2)', 'LNLG NCE unc (TgCO2)',\n",
              "       'LNLGIS NCE (TgCO2)', 'LNLGIS NCE unc (TgCO2)', 'LNLGOGIS NCE (TgCO2)',\n",
              "       'LNLGOGIS NCE unc (TgCO2)', 'Rivers (TgCO2)', 'River unc (TgCO2)',\n",
              "       'Wood+Crop (TgCO2)', 'Wood+Crop unc (TgCO2)', 'FF (TgCO2)',\n",
              "       'FF unc (TgCO2)', 'Z-statistic', 'IAD IS', 'IAD LNLG', 'IAD LNLGIS',\n",
              "       'IAD LNLGOGIS'],\n",
              "      dtype='object')"
            ]
          },
          "metadata": {},
          "execution_count": 7
        }
      ],
      "source": [
        "# Do we have meta data for these keys?\n",
        "country_co2_data.keys()"
      ]
    },
    {
      "cell_type": "markdown",
      "id": "ee3e5572-f493-46ce-a5a9-2a99ba847271",
      "metadata": {
        "iooxa": {
          "id": {
            "block": "uRG0J8EWy55vomdkOnsD",
            "project": "ttdn3xVbgzjl9d2pKesg",
            "version": 1
          }
        },
        "id": "ee3e5572-f493-46ce-a5a9-2a99ba847271"
      },
      "source": [
        "Recall the equation to calculate net carbon exchange (NCE) from class, $$NCE = \\Delta C_{loss} + FF + F_{crop_{trade}} + F_{wood_{trade}} + F_{rivers_{export}}$$\n",
        "We can see above that we have the necessary variables and uncertainty values to use this carbon balance equation with our different data sources: IS, LNLG, LNLGIS, and LNLGOGIS. There are multiple ways to sum columns. Two of them have been implemented for IS and LNLG. Use these to find the NCE for the other two data sources."
      ]
    },
    {
      "cell_type": "code",
      "execution_count": null,
      "id": "f0bfe414-5b1b-41d7-952f-1c99770eddd3",
      "metadata": {
        "iooxa": {
          "id": {
            "block": "cq0eD4zme1eWCCcBurlz",
            "project": "ttdn3xVbgzjl9d2pKesg",
            "version": 1
          },
          "outputId": null
        },
        "tags": [],
        "id": "f0bfe414-5b1b-41d7-952f-1c99770eddd3"
      },
      "outputs": [],
      "source": [
        "country_co2_data['NCE_IS']  = country_co2_data['IS dC_loss (TgCO2)'] + country_co2_data['FF (TgCO2)'] + country_co2_data['Wood+Crop (TgCO2)'] + country_co2_data['Rivers (TgCO2)']"
      ]
    },
    {
      "cell_type": "code",
      "execution_count": null,
      "id": "1ec64f1c-f201-41c5-b0e3-4805fbcd1761",
      "metadata": {
        "iooxa": {
          "id": {
            "block": "J4PUY0tokoZquYuoGd5d",
            "project": "ttdn3xVbgzjl9d2pKesg",
            "version": 1
          },
          "outputId": null
        },
        "tags": [],
        "id": "1ec64f1c-f201-41c5-b0e3-4805fbcd1761"
      },
      "outputs": [],
      "source": [
        "country_co2_data['NCE_LNLG'] =  country_co2_data[['LNLG dC_loss (TgCO2)','FF (TgCO2)','Wood+Crop (TgCO2)','Rivers (TgCO2)']].sum(axis=1)"
      ]
    },
    {
      "cell_type": "code",
      "execution_count": null,
      "id": "f4ceb197-0ea5-46bd-8da4-0b7e147295b0",
      "metadata": {
        "iooxa": {
          "id": {
            "block": "kPjt8Oj3aliKtm6s6I5y",
            "project": "ttdn3xVbgzjl9d2pKesg",
            "version": 1
          },
          "outputId": null
        },
        "tags": [],
        "id": "f4ceb197-0ea5-46bd-8da4-0b7e147295b0"
      },
      "outputs": [],
      "source": [
        "# to delete\n",
        "country_co2_data['NCE_LNLGIS'] =  country_co2_data[['LNLG dC_loss (TgCO2)','FF (TgCO2)','Wood+Crop (TgCO2)','Rivers (TgCO2)']].sum(axis=1)\n",
        "country_co2_data['NCE_LNLGOGIS'] =  country_co2_data[['LNLGOGIS dC_loss (TgCO2)','FF (TgCO2)','Wood+Crop (TgCO2)','Rivers (TgCO2)']].sum(axis=1)"
      ]
    },
    {
      "cell_type": "markdown",
      "id": "fa2f35a5-281a-4f52-8ac5-f7b4eaa53fb5",
      "metadata": {
        "iooxa": {
          "id": {
            "block": "O8zNQSx8QDZ7tIp4Fcv8",
            "project": "ttdn3xVbgzjl9d2pKesg",
            "version": 1
          }
        },
        "id": "fa2f35a5-281a-4f52-8ac5-f7b4eaa53fb5"
      },
      "source": [
        "If we display the `country_co2_data` structure again, we can see the added columns."
      ]
    },
    {
      "cell_type": "code",
      "execution_count": null,
      "id": "d066bbee-3e90-4ebb-b0ce-d5b0768cfb44",
      "metadata": {
        "iooxa": {
          "id": {
            "block": "MZK5vvrLRaMXOTgcQrVu",
            "project": "ttdn3xVbgzjl9d2pKesg",
            "version": 1
          },
          "outputId": {
            "block": "uEC0aLlolv8Z1l46ElfM",
            "project": "ttdn3xVbgzjl9d2pKesg",
            "version": 1
          }
        },
        "tags": [],
        "colab": {
          "base_uri": "https://localhost:8080/",
          "height": 414
        },
        "id": "d066bbee-3e90-4ebb-b0ce-d5b0768cfb44",
        "outputId": "edc62911-4d34-49f0-af08-741357864294"
      },
      "outputs": [
        {
          "output_type": "execute_result",
          "data": {
            "text/plain": [
              "   Alpha 3 Code  Year  IS dC_loss (TgCO2)  IS dC_loss unc (TgCO2)  \\\n",
              "28          ARG  2015             112.047                 242.044   \n",
              "29          ARG  2016            -210.205                 367.245   \n",
              "30          ARG  2017            -327.038                 315.110   \n",
              "31          ARG  2018            -245.061                 217.192   \n",
              "32          ARG  2019            -213.240                 354.183   \n",
              "33          ARG  2020            -418.437                 395.979   \n",
              "34          ARG  mean            -184.154                 197.942   \n",
              "\n",
              "    LNLG dC_loss (TgCO2)  LNLG dC_loss unc (TgCO2)  LNLGIS dC_loss (TgCO2)  \\\n",
              "28              -719.161                   700.999                -398.645   \n",
              "29             -1096.460                   288.668                -991.864   \n",
              "30              -913.552                   470.527                -624.537   \n",
              "31              -815.288                   552.578                -366.575   \n",
              "32             -1272.550                   558.181               -1186.130   \n",
              "33              -878.118                   457.886                -976.530   \n",
              "34             -1052.830                   478.819                -655.320   \n",
              "\n",
              "    LNLGIS dC_loss unc (TgCO2)  LNLGOGIS dC_loss (TgCO2)  \\\n",
              "28                     741.318                   47.8970   \n",
              "29                     396.966                 -253.8120   \n",
              "30                     582.199                 -595.9920   \n",
              "31                     657.288                 -482.8150   \n",
              "32                     727.737                 -623.3160   \n",
              "33                     447.187                  -84.6341   \n",
              "34                     472.673                 -353.5240   \n",
              "\n",
              "    LNLGOGIS dC_loss unc (TgCO2)  ...  FF unc (TgCO2)  Z-statistic  IAD IS  \\\n",
              "28                       835.261  ...         19.3936        -1.15    0.28   \n",
              "29                       545.195  ...         19.3036        -1.71    0.28   \n",
              "30                       678.966  ...         18.9496        -1.51    0.28   \n",
              "31                       403.436  ...         18.9496        -1.28    0.28   \n",
              "32                       489.948  ...         19.3936        -1.73    0.28   \n",
              "33                       479.598  ...         19.3936        -0.69    0.28   \n",
              "34                       592.391  ...         19.2306        -1.52    0.28   \n",
              "\n",
              "    IAD LNLG  IAD LNLGIS  IAD LNLGOGIS    NCE_IS   NCE_LNLG  NCE_LNLGIS  \\\n",
              "28       0.7        0.72          0.72  156.7037  -674.5043   -674.5043   \n",
              "29       0.7        0.72          0.72 -165.6926 -1051.9476  -1051.9476   \n",
              "30       0.7        0.72          0.72 -285.5472  -872.0612   -872.0612   \n",
              "31       0.7        0.72          0.72 -205.4489  -775.6759   -775.6759   \n",
              "32       0.7        0.72          0.72 -178.7154 -1238.0254  -1238.0254   \n",
              "33       0.7        0.72          0.72 -399.0511  -858.7321   -858.7321   \n",
              "34       0.7        0.72          0.72 -146.7901 -1015.4661  -1015.4661   \n",
              "\n",
              "    NCE_LNLGOGIS  \n",
              "28       92.5537  \n",
              "29     -209.2996  \n",
              "30     -554.5012  \n",
              "31     -443.2029  \n",
              "32     -588.7914  \n",
              "33      -65.2482  \n",
              "34     -316.1601  \n",
              "\n",
              "[7 rows x 41 columns]"
            ],
            "text/html": [
              "\n",
              "  <div id=\"df-951a030e-0a89-4796-9cc6-3bb60b18feca\">\n",
              "    <div class=\"colab-df-container\">\n",
              "      <div>\n",
              "<style scoped>\n",
              "    .dataframe tbody tr th:only-of-type {\n",
              "        vertical-align: middle;\n",
              "    }\n",
              "\n",
              "    .dataframe tbody tr th {\n",
              "        vertical-align: top;\n",
              "    }\n",
              "\n",
              "    .dataframe thead th {\n",
              "        text-align: right;\n",
              "    }\n",
              "</style>\n",
              "<table border=\"1\" class=\"dataframe\">\n",
              "  <thead>\n",
              "    <tr style=\"text-align: right;\">\n",
              "      <th></th>\n",
              "      <th>Alpha 3 Code</th>\n",
              "      <th>Year</th>\n",
              "      <th>IS dC_loss (TgCO2)</th>\n",
              "      <th>IS dC_loss unc (TgCO2)</th>\n",
              "      <th>LNLG dC_loss (TgCO2)</th>\n",
              "      <th>LNLG dC_loss unc (TgCO2)</th>\n",
              "      <th>LNLGIS dC_loss (TgCO2)</th>\n",
              "      <th>LNLGIS dC_loss unc (TgCO2)</th>\n",
              "      <th>LNLGOGIS dC_loss (TgCO2)</th>\n",
              "      <th>LNLGOGIS dC_loss unc (TgCO2)</th>\n",
              "      <th>...</th>\n",
              "      <th>FF unc (TgCO2)</th>\n",
              "      <th>Z-statistic</th>\n",
              "      <th>IAD IS</th>\n",
              "      <th>IAD LNLG</th>\n",
              "      <th>IAD LNLGIS</th>\n",
              "      <th>IAD LNLGOGIS</th>\n",
              "      <th>NCE_IS</th>\n",
              "      <th>NCE_LNLG</th>\n",
              "      <th>NCE_LNLGIS</th>\n",
              "      <th>NCE_LNLGOGIS</th>\n",
              "    </tr>\n",
              "  </thead>\n",
              "  <tbody>\n",
              "    <tr>\n",
              "      <th>28</th>\n",
              "      <td>ARG</td>\n",
              "      <td>2015</td>\n",
              "      <td>112.047</td>\n",
              "      <td>242.044</td>\n",
              "      <td>-719.161</td>\n",
              "      <td>700.999</td>\n",
              "      <td>-398.645</td>\n",
              "      <td>741.318</td>\n",
              "      <td>47.8970</td>\n",
              "      <td>835.261</td>\n",
              "      <td>...</td>\n",
              "      <td>19.3936</td>\n",
              "      <td>-1.15</td>\n",
              "      <td>0.28</td>\n",
              "      <td>0.7</td>\n",
              "      <td>0.72</td>\n",
              "      <td>0.72</td>\n",
              "      <td>156.7037</td>\n",
              "      <td>-674.5043</td>\n",
              "      <td>-674.5043</td>\n",
              "      <td>92.5537</td>\n",
              "    </tr>\n",
              "    <tr>\n",
              "      <th>29</th>\n",
              "      <td>ARG</td>\n",
              "      <td>2016</td>\n",
              "      <td>-210.205</td>\n",
              "      <td>367.245</td>\n",
              "      <td>-1096.460</td>\n",
              "      <td>288.668</td>\n",
              "      <td>-991.864</td>\n",
              "      <td>396.966</td>\n",
              "      <td>-253.8120</td>\n",
              "      <td>545.195</td>\n",
              "      <td>...</td>\n",
              "      <td>19.3036</td>\n",
              "      <td>-1.71</td>\n",
              "      <td>0.28</td>\n",
              "      <td>0.7</td>\n",
              "      <td>0.72</td>\n",
              "      <td>0.72</td>\n",
              "      <td>-165.6926</td>\n",
              "      <td>-1051.9476</td>\n",
              "      <td>-1051.9476</td>\n",
              "      <td>-209.2996</td>\n",
              "    </tr>\n",
              "    <tr>\n",
              "      <th>30</th>\n",
              "      <td>ARG</td>\n",
              "      <td>2017</td>\n",
              "      <td>-327.038</td>\n",
              "      <td>315.110</td>\n",
              "      <td>-913.552</td>\n",
              "      <td>470.527</td>\n",
              "      <td>-624.537</td>\n",
              "      <td>582.199</td>\n",
              "      <td>-595.9920</td>\n",
              "      <td>678.966</td>\n",
              "      <td>...</td>\n",
              "      <td>18.9496</td>\n",
              "      <td>-1.51</td>\n",
              "      <td>0.28</td>\n",
              "      <td>0.7</td>\n",
              "      <td>0.72</td>\n",
              "      <td>0.72</td>\n",
              "      <td>-285.5472</td>\n",
              "      <td>-872.0612</td>\n",
              "      <td>-872.0612</td>\n",
              "      <td>-554.5012</td>\n",
              "    </tr>\n",
              "    <tr>\n",
              "      <th>31</th>\n",
              "      <td>ARG</td>\n",
              "      <td>2018</td>\n",
              "      <td>-245.061</td>\n",
              "      <td>217.192</td>\n",
              "      <td>-815.288</td>\n",
              "      <td>552.578</td>\n",
              "      <td>-366.575</td>\n",
              "      <td>657.288</td>\n",
              "      <td>-482.8150</td>\n",
              "      <td>403.436</td>\n",
              "      <td>...</td>\n",
              "      <td>18.9496</td>\n",
              "      <td>-1.28</td>\n",
              "      <td>0.28</td>\n",
              "      <td>0.7</td>\n",
              "      <td>0.72</td>\n",
              "      <td>0.72</td>\n",
              "      <td>-205.4489</td>\n",
              "      <td>-775.6759</td>\n",
              "      <td>-775.6759</td>\n",
              "      <td>-443.2029</td>\n",
              "    </tr>\n",
              "    <tr>\n",
              "      <th>32</th>\n",
              "      <td>ARG</td>\n",
              "      <td>2019</td>\n",
              "      <td>-213.240</td>\n",
              "      <td>354.183</td>\n",
              "      <td>-1272.550</td>\n",
              "      <td>558.181</td>\n",
              "      <td>-1186.130</td>\n",
              "      <td>727.737</td>\n",
              "      <td>-623.3160</td>\n",
              "      <td>489.948</td>\n",
              "      <td>...</td>\n",
              "      <td>19.3936</td>\n",
              "      <td>-1.73</td>\n",
              "      <td>0.28</td>\n",
              "      <td>0.7</td>\n",
              "      <td>0.72</td>\n",
              "      <td>0.72</td>\n",
              "      <td>-178.7154</td>\n",
              "      <td>-1238.0254</td>\n",
              "      <td>-1238.0254</td>\n",
              "      <td>-588.7914</td>\n",
              "    </tr>\n",
              "    <tr>\n",
              "      <th>33</th>\n",
              "      <td>ARG</td>\n",
              "      <td>2020</td>\n",
              "      <td>-418.437</td>\n",
              "      <td>395.979</td>\n",
              "      <td>-878.118</td>\n",
              "      <td>457.886</td>\n",
              "      <td>-976.530</td>\n",
              "      <td>447.187</td>\n",
              "      <td>-84.6341</td>\n",
              "      <td>479.598</td>\n",
              "      <td>...</td>\n",
              "      <td>19.3936</td>\n",
              "      <td>-0.69</td>\n",
              "      <td>0.28</td>\n",
              "      <td>0.7</td>\n",
              "      <td>0.72</td>\n",
              "      <td>0.72</td>\n",
              "      <td>-399.0511</td>\n",
              "      <td>-858.7321</td>\n",
              "      <td>-858.7321</td>\n",
              "      <td>-65.2482</td>\n",
              "    </tr>\n",
              "    <tr>\n",
              "      <th>34</th>\n",
              "      <td>ARG</td>\n",
              "      <td>mean</td>\n",
              "      <td>-184.154</td>\n",
              "      <td>197.942</td>\n",
              "      <td>-1052.830</td>\n",
              "      <td>478.819</td>\n",
              "      <td>-655.320</td>\n",
              "      <td>472.673</td>\n",
              "      <td>-353.5240</td>\n",
              "      <td>592.391</td>\n",
              "      <td>...</td>\n",
              "      <td>19.2306</td>\n",
              "      <td>-1.52</td>\n",
              "      <td>0.28</td>\n",
              "      <td>0.7</td>\n",
              "      <td>0.72</td>\n",
              "      <td>0.72</td>\n",
              "      <td>-146.7901</td>\n",
              "      <td>-1015.4661</td>\n",
              "      <td>-1015.4661</td>\n",
              "      <td>-316.1601</td>\n",
              "    </tr>\n",
              "  </tbody>\n",
              "</table>\n",
              "<p>7 rows × 41 columns</p>\n",
              "</div>\n",
              "      <button class=\"colab-df-convert\" onclick=\"convertToInteractive('df-951a030e-0a89-4796-9cc6-3bb60b18feca')\"\n",
              "              title=\"Convert this dataframe to an interactive table.\"\n",
              "              style=\"display:none;\">\n",
              "        \n",
              "  <svg xmlns=\"http://www.w3.org/2000/svg\" height=\"24px\"viewBox=\"0 0 24 24\"\n",
              "       width=\"24px\">\n",
              "    <path d=\"M0 0h24v24H0V0z\" fill=\"none\"/>\n",
              "    <path d=\"M18.56 5.44l.94 2.06.94-2.06 2.06-.94-2.06-.94-.94-2.06-.94 2.06-2.06.94zm-11 1L8.5 8.5l.94-2.06 2.06-.94-2.06-.94L8.5 2.5l-.94 2.06-2.06.94zm10 10l.94 2.06.94-2.06 2.06-.94-2.06-.94-.94-2.06-.94 2.06-2.06.94z\"/><path d=\"M17.41 7.96l-1.37-1.37c-.4-.4-.92-.59-1.43-.59-.52 0-1.04.2-1.43.59L10.3 9.45l-7.72 7.72c-.78.78-.78 2.05 0 2.83L4 21.41c.39.39.9.59 1.41.59.51 0 1.02-.2 1.41-.59l7.78-7.78 2.81-2.81c.8-.78.8-2.07 0-2.86zM5.41 20L4 18.59l7.72-7.72 1.47 1.35L5.41 20z\"/>\n",
              "  </svg>\n",
              "      </button>\n",
              "      \n",
              "  <style>\n",
              "    .colab-df-container {\n",
              "      display:flex;\n",
              "      flex-wrap:wrap;\n",
              "      gap: 12px;\n",
              "    }\n",
              "\n",
              "    .colab-df-convert {\n",
              "      background-color: #E8F0FE;\n",
              "      border: none;\n",
              "      border-radius: 50%;\n",
              "      cursor: pointer;\n",
              "      display: none;\n",
              "      fill: #1967D2;\n",
              "      height: 32px;\n",
              "      padding: 0 0 0 0;\n",
              "      width: 32px;\n",
              "    }\n",
              "\n",
              "    .colab-df-convert:hover {\n",
              "      background-color: #E2EBFA;\n",
              "      box-shadow: 0px 1px 2px rgba(60, 64, 67, 0.3), 0px 1px 3px 1px rgba(60, 64, 67, 0.15);\n",
              "      fill: #174EA6;\n",
              "    }\n",
              "\n",
              "    [theme=dark] .colab-df-convert {\n",
              "      background-color: #3B4455;\n",
              "      fill: #D2E3FC;\n",
              "    }\n",
              "\n",
              "    [theme=dark] .colab-df-convert:hover {\n",
              "      background-color: #434B5C;\n",
              "      box-shadow: 0px 1px 3px 1px rgba(0, 0, 0, 0.15);\n",
              "      filter: drop-shadow(0px 1px 2px rgba(0, 0, 0, 0.3));\n",
              "      fill: #FFFFFF;\n",
              "    }\n",
              "  </style>\n",
              "\n",
              "      <script>\n",
              "        const buttonEl =\n",
              "          document.querySelector('#df-951a030e-0a89-4796-9cc6-3bb60b18feca button.colab-df-convert');\n",
              "        buttonEl.style.display =\n",
              "          google.colab.kernel.accessAllowed ? 'block' : 'none';\n",
              "\n",
              "        async function convertToInteractive(key) {\n",
              "          const element = document.querySelector('#df-951a030e-0a89-4796-9cc6-3bb60b18feca');\n",
              "          const dataTable =\n",
              "            await google.colab.kernel.invokeFunction('convertToInteractive',\n",
              "                                                     [key], {});\n",
              "          if (!dataTable) return;\n",
              "\n",
              "          const docLinkHtml = 'Like what you see? Visit the ' +\n",
              "            '<a target=\"_blank\" href=https://colab.research.google.com/notebooks/data_table.ipynb>data table notebook</a>'\n",
              "            + ' to learn more about interactive tables.';\n",
              "          element.innerHTML = '';\n",
              "          dataTable['output_type'] = 'display_data';\n",
              "          await google.colab.output.renderOutput(dataTable, element);\n",
              "          const docLink = document.createElement('div');\n",
              "          docLink.innerHTML = docLinkHtml;\n",
              "          element.appendChild(docLink);\n",
              "        }\n",
              "      </script>\n",
              "    </div>\n",
              "  </div>\n",
              "  "
            ]
          },
          "metadata": {},
          "execution_count": 11
        }
      ],
      "source": [
        "country_co2_data"
      ]
    },
    {
      "cell_type": "markdown",
      "id": "9fcebca4-82ee-4158-ad38-8839d79953e7",
      "metadata": {
        "iooxa": {
          "id": {
            "block": "iV0k0vjAI9w9BQjCyI1B",
            "project": "ttdn3xVbgzjl9d2pKesg",
            "version": 1
          }
        },
        "id": "9fcebca4-82ee-4158-ad38-8839d79953e7"
      },
      "source": [
        "Now that we have calculated these balances, we can plot them by year. We don't want to plot the mean data so we can remove it and store it separately."
      ]
    },
    {
      "cell_type": "code",
      "execution_count": null,
      "id": "f613c0c9-9bed-4da1-a133-708a62369a6c",
      "metadata": {
        "iooxa": {
          "id": {
            "block": "33rdlUoAKr32uybn7iNt",
            "project": "ttdn3xVbgzjl9d2pKesg",
            "version": 1
          },
          "outputId": null
        },
        "tags": [],
        "id": "f613c0c9-9bed-4da1-a133-708a62369a6c"
      },
      "outputs": [],
      "source": [
        "co2_to_plot = country_co2_data[country_co2_data.Year != \"mean\"]\n",
        "means = country_co2_data[country_co2_data.Year == \"mean\"]"
      ]
    },
    {
      "cell_type": "code",
      "execution_count": null,
      "id": "02a6c32d-ab5b-4a34-94a4-a2af77bc1141",
      "metadata": {
        "id": "02a6c32d-ab5b-4a34-94a4-a2af77bc1141"
      },
      "outputs": [],
      "source": [
        "plt.style.use('ggplot')"
      ]
    },
    {
      "cell_type": "markdown",
      "id": "b5f16430-feea-4b1e-b78b-d3a07c73392b",
      "metadata": {
        "iooxa": {
          "id": {
            "block": "9LuKvneIre9XqQiZ6cA1",
            "project": "ttdn3xVbgzjl9d2pKesg",
            "version": 1
          }
        },
        "id": "b5f16430-feea-4b1e-b78b-d3a07c73392b"
      },
      "source": [
        "Now plot assign each student a country to create budget for each year and average, and plot over the years and compare to the mean"
      ]
    },
    {
      "cell_type": "code",
      "execution_count": null,
      "id": "de854925-4874-4f62-9aa7-53cf894f8985",
      "metadata": {
        "iooxa": {
          "id": {
            "block": "IR5UZOuUOhXD8dAo8aBq",
            "project": "ttdn3xVbgzjl9d2pKesg",
            "version": 1
          },
          "outputId": {
            "block": "wLqpvRdpL3fmsWvPiK6P",
            "project": "ttdn3xVbgzjl9d2pKesg",
            "version": 1
          }
        },
        "tags": [],
        "colab": {
          "base_uri": "https://localhost:8080/",
          "height": 354
        },
        "id": "de854925-4874-4f62-9aa7-53cf894f8985",
        "outputId": "522519ca-8d82-4eb1-f0ff-9885f971e3fb"
      },
      "outputs": [
        {
          "output_type": "display_data",
          "data": {
            "text/plain": [
              "<Figure size 720x360 with 1 Axes>"
            ],
            "image/png": "[encoded data removed]"
          },
          "metadata": {}
        }
      ],
      "source": [
        "fig = plt.figure(figsize=(10, 5))\n",
        "plt.plot(co2_to_plot['Year'],co2_to_plot['NCE_IS'], label='NCE_IS')\n",
        "plt.plot(co2_to_plot['Year'],co2_to_plot['NCE_LNLG'], label='NCE_LNLG')\n",
        "# Was a bit confusing that NCE_LNLG and NCE_LNLGIS are coincident\n",
        "plt.plot(co2_to_plot['Year'],co2_to_plot['NCE_LNLGIS'], label='NCE_LNLGIS', marker='x', linestyle='None')\n",
        "plt.plot(co2_to_plot['Year'],co2_to_plot['NCE_LNLGOGIS'], label='NCE_LNLGOGIS')\n",
        "plt.legend()\n",
        "# plt.legend(['NCE_IS','NCE_LNLG','NCE_LNLGIS','NCE_LNLGOGIS'])\n",
        "# tle = 'Comparing estimates of net carbon exchange for ' + country_code\n",
        "tle = 'Comparing estimates of net carbon exchange for {:s}'.format(country_code)\n",
        "plt.title(tle)\n",
        "plt.xlabel('year')\n",
        "plt.ylabel('TgCO2')\n",
        "plt.show()"
      ]
    },
    {
      "cell_type": "code",
      "execution_count": null,
      "id": "c43d0076-5980-47b4-a193-0e4a964fc970",
      "metadata": {
        "colab": {
          "base_uri": "https://localhost:8080/"
        },
        "id": "c43d0076-5980-47b4-a193-0e4a964fc970",
        "outputId": "74d33752-6650-4adb-ba0e-ed2c4098cb38"
      },
      "outputs": [
        {
          "output_type": "execute_result",
          "data": {
            "text/plain": [
              "28    -674.5043\n",
              "29   -1051.9476\n",
              "30    -872.0612\n",
              "31    -775.6759\n",
              "32   -1238.0254\n",
              "33    -858.7321\n",
              "Name: NCE_LNLG, dtype: float64"
            ]
          },
          "metadata": {},
          "execution_count": 15
        }
      ],
      "source": [
        "co2_to_plot['NCE_LNLG']"
      ]
    },
    {
      "cell_type": "markdown",
      "id": "c2ee060c-75ea-4f9c-8d5b-3d9a0bf907e2",
      "metadata": {
        "iooxa": {
          "id": {
            "block": "9mKDQ7YTMAvYzY6JKUaU",
            "project": "ttdn3xVbgzjl9d2pKesg",
            "version": 1
          }
        },
        "id": "c2ee060c-75ea-4f9c-8d5b-3d9a0bf907e2"
      },
      "source": [
        "If you have time, explore this resource to play around with line styles. Now, note that the data frame also has the uncertainties for each of these measurements. Can you "
      ]
    },
    {
      "cell_type": "markdown",
      "id": "dfad32a6-1691-460f-952c-2e9d0255f2db",
      "metadata": {
        "jupyter": {
          "outputs_hidden": true
        },
        "id": "dfad32a6-1691-460f-952c-2e9d0255f2db"
      },
      "source": [
        "## Questions from Seogi\n",
        "- Worthwhile to introduce Jupyter Lab first? (concept of cells? how to run?)\n",
        "- You are first introducing pandas's `Dataframe`, and how that can be used to quarry the data. Would you even use numpy and scipy? \n",
        "- You then introduce `matplotlib`\n",
        "- May be worth while to show how the `Dataframe` is connected to numpy array?\n",
        "  (at the moment we do not even need `numpy`, `geopandas`, \n",
        "- "
      ]
    },
    {
      "cell_type": "code",
      "source": [],
      "metadata": {
        "id": "zCdsO7VJ_Lnl"
      },
      "id": "zCdsO7VJ_Lnl",
      "execution_count": null,
      "outputs": []
    }
  ],
  "metadata": {
    "iooxa": {
      "id": {
        "block": "FmyoGq1rsC5j6PEcdCXS",
        "project": "ttdn3xVbgzjl9d2pKesg",
        "version": 2
      }
    },
    "kernelspec": {
      "display_name": "Python 3 (ipykernel)",
      "language": "python",
      "name": "python3"
    },
    "language_info": {
      "codemirror_mode": {
        "name": "ipython",
        "version": 3
      },
      "file_extension": ".py",
      "mimetype": "text/x-python",
      "name": "python",
      "nbconvert_exporter": "python",
      "pygments_lexer": "ipython3",
      "version": "3.9.5"
    },
    "colab": {
      "provenance": [],
      "include_colab_link": true
    }
  },
  "nbformat": 4,
  "nbformat_minor": 5
}